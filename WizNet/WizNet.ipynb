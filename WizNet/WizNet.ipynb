{
 "cells": [
  {
   "cell_type": "code",
   "execution_count": 1,
   "metadata": {},
   "outputs": [],
   "source": [
    "import math\n",
    "import numpy as np"
   ]
  },
  {
   "cell_type": "code",
   "execution_count": 26,
   "metadata": {},
   "outputs": [
    {
     "data": {
      "text/plain": [
       "[0, 0, 0, 0]"
      ]
     },
     "execution_count": 26,
     "metadata": {},
     "output_type": "execute_result"
    }
   ],
   "source": [
    "input = [1, 2, 3, 4]\n",
    "[0 for _ in range(len(input))]"
   ]
  },
  {
   "cell_type": "code",
   "execution_count": 81,
   "metadata": {},
   "outputs": [],
   "source": [
    "class Params:\n",
    "    \"\"\"Class representing parameters to a mini Neural Net aka WizNet\n",
    "    \"\"\"\n",
    "    def __init__(self, value, grad=0, dtype= None):\n",
    "        self.value = value\n",
    "        self.grad = grad\n",
    "        self.type = dtype\n",
    "    \n",
    "    def __add__(self, biasParam):\n",
    "        total = self.value + biasParam.value\n",
    "        return Params(total)\n",
    "    \n",
    "    def __mul__(self, dataParam):\n",
    "        total = np.dot(self.value, dataParam.value)\n",
    "        return Params(total)\n",
    "    \n",
    "    def __repr__(self):\n",
    "        return f\"Parameter type: {self.type}, Value: {self.value}, Grad: {self.grad}, \"\n",
    "    \n",
    "    def weighted_sum(self, param1, param2):\n",
    "        \n",
    "        variables = {\n",
    "            self.type : self,\n",
    "            param1.type :param1,\n",
    "            param2.type : param2\n",
    "        }\n",
    "        \n",
    "        weighted_sum = np.dot(variables['weight'].value, variables['data'].value) + variables['bias'].value\n",
    "        return Params(weighted_sum, dtype='data')\n",
    "class Weights(Params):\n",
    "    \"\"\"\n",
    "    Class representing weights input to a neuron / nn .\n",
    "    \"\"\"\n",
    "    def __init__(self, value):\n",
    "        \"\"\" Initializes weights parameters to specified value. \n",
    "\n",
    "        Args:\n",
    "            value (float or list/np.ndarray): The value of the bias.\n",
    "        \"\"\"\n",
    "        super().__init__(value)\n",
    "        self.type = \"weight\"\n",
    "    \n",
    "class Bias(Params):\n",
    "    \"\"\"\n",
    "    Class representing bias input to a neuron / nn .\n",
    "    \"\"\"\n",
    "    def __init__(self, value):\n",
    "        \"\"\"\n",
    "        Initializes bias parameter to specified value.\n",
    "\n",
    "        Args:\n",
    "            value (float or list/np.ndarray): The value of the bias.\n",
    "        \"\"\"\n",
    "        super().__init__(value)\n",
    "        self.type = \"bias\"\n",
    "        \n",
    "class Data(Params):\n",
    "    \"\"\"\n",
    "    Class representing data input to a neuron / nn.\n",
    "    \"\"\"\n",
    "    def __init__(self, value):\n",
    "        \"\"\"\n",
    "        Initializes data parameter to specified value.\n",
    "\n",
    "        Args:\n",
    "            value (float or list/np.ndarray): The initial value of the data.\n",
    "        \"\"\"\n",
    "        super().__init__(value)  \n",
    "        self.type = \"data\"\n",
    "        \n",
    "    "
   ]
  },
  {
   "cell_type": "code",
   "execution_count": 82,
   "metadata": {},
   "outputs": [
    {
     "name": "stdout",
     "output_type": "stream",
     "text": [
      "Parameter type: data, Value: 22, Grad: 0, \n",
      "Parameter type: weight, Value: 0.5, Grad: 0, \n"
     ]
    },
    {
     "data": {
      "text/plain": [
       "Parameter type: data, Value: 12.0, Grad: 0, "
      ]
     },
     "execution_count": 82,
     "metadata": {},
     "output_type": "execute_result"
    }
   ],
   "source": [
    "x = Data(22)\n",
    "y = Weights(.5)\n",
    "z = Bias(1)\n",
    "print(x)\n",
    "print(y)\n",
    "\n",
    "x.weighted_sum(y, z)"
   ]
  },
  {
   "cell_type": "code",
   "execution_count": 24,
   "metadata": {},
   "outputs": [],
   "source": [
    "class Neuron:\n",
    "    \n",
    "    activationFunc = {\n",
    "        \"Sigmoid\" : lambda x: 1/1+ (np.exp(x))\n",
    "    }\n",
    "    \n",
    "    \n",
    "    def __init__(self, input, weight=[0 for _ in range(len(input))], bias = [0 for _ in range(len(input))], grad=0, activationFunc=activationFunc[\"Sigmoid\"]):\n",
    "        self.input = input\n",
    "        self.weights = weight\n",
    "        self.bias = bias\n",
    "        self.grad = grad\n",
    "        # self.activationFunc = activationFunc\n",
    "        # self.weightedsum = self.weighted_sum()\n",
    "        # self.output = apply_\n",
    "        # self.children = self.apply_activation()\n",
    "        self.prev = []\n",
    "        self.children = []\n",
    "        \n",
    "    \n",
    "    def weighted_sum(self):\n",
    "        print(self.bias)\n",
    "        dataSum = np.dot(self.weights, self.input) + self.bias\n",
    "        \n",
    "    def\n",
    "\n",
    "    # def apply_activation(self):\n",
    "    #     self.activationFunc(self.weightedsum)\n",
    "        \n",
    "\n",
    "        "
   ]
  },
  {
   "cell_type": "code",
   "execution_count": 25,
   "metadata": {},
   "outputs": [],
   "source": [
    "x = Neuron(22) \n",
    "y = Neuron(23)\n"
   ]
  },
  {
   "cell_type": "code",
   "execution_count": null,
   "metadata": {},
   "outputs": [],
   "source": []
  }
 ],
 "metadata": {
  "kernelspec": {
   "display_name": "Python 3",
   "language": "python",
   "name": "python3"
  },
  "language_info": {
   "codemirror_mode": {
    "name": "ipython",
    "version": 3
   },
   "file_extension": ".py",
   "mimetype": "text/x-python",
   "name": "python",
   "nbconvert_exporter": "python",
   "pygments_lexer": "ipython3",
   "version": "3.10.0"
  }
 },
 "nbformat": 4,
 "nbformat_minor": 2
}
