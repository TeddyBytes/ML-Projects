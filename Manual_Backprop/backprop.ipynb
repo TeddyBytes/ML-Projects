{
  "cells": [
    {
      "cell_type": "markdown",
      "metadata": {
        "id": "rToK0Tku8PPn"
      },
      "source": [
        "## makemore: becoming a backprop ninja"
      ]
    },
    {
      "cell_type": "code",
      "execution_count": 1,
      "metadata": {
        "id": "ChBbac4y8PPq"
      },
      "outputs": [],
      "source": [
        "import torch\n",
        "import torch.nn.functional as F\n",
        "import matplotlib.pyplot as plt\n",
        "import random\n",
        "%matplotlib inline"
      ]
    },
    {
      "cell_type": "code",
      "execution_count": 2,
      "metadata": {
        "id": "klmu3ZG08PPr"
      },
      "outputs": [
        {
          "name": "stdout",
          "output_type": "stream",
          "text": [
            "32033\n",
            "15\n",
            "['emma', 'olivia', 'ava', 'isabella', 'sophia', 'charlotte', 'mia', 'amelia']\n"
          ]
        }
      ],
      "source": [
        "# read in all the words\n",
        "words = open('names.txt', 'r').read().splitlines()\n",
        "print(len(words))\n",
        "print(max(len(w) for w in words))\n",
        "print(words[:8])"
      ]
    },
    {
      "cell_type": "code",
      "execution_count": 3,
      "metadata": {
        "id": "BCQomLE_8PPs"
      },
      "outputs": [
        {
          "name": "stdout",
          "output_type": "stream",
          "text": [
            "{1: 'a', 2: 'b', 3: 'c', 4: 'd', 5: 'e', 6: 'f', 7: 'g', 8: 'h', 9: 'i', 10: 'j', 11: 'k', 12: 'l', 13: 'm', 14: 'n', 15: 'o', 16: 'p', 17: 'q', 18: 'r', 19: 's', 20: 't', 21: 'u', 22: 'v', 23: 'w', 24: 'x', 25: 'y', 26: 'z', 0: '.'}\n",
            "27\n"
          ]
        }
      ],
      "source": [
        "# ----------------- Vocabulary Building ----------------------\n",
        "\n",
        "# Build the vocabulary of characters and mappings to/from integers\n",
        "chars = sorted(list(set(''.join(words))))\n",
        "stoi = {s: i + 1 for i, s in enumerate(chars)}\n",
        "stoi['.'] = 0\n",
        "itos = {i: s for s, i in stoi.items()}\n",
        "vocab_size = len(itos)\n",
        "\n",
        "# ----------------- Output Vocabulary ----------------------\n",
        "\n",
        "print(itos)\n",
        "print(vocab_size)\n"
      ]
    },
    {
      "cell_type": "code",
      "execution_count": 4,
      "metadata": {
        "id": "V_zt2QHr8PPs"
      },
      "outputs": [
        {
          "name": "stdout",
          "output_type": "stream",
          "text": [
            "torch.Size([182625, 3]) torch.Size([182625])\n",
            "torch.Size([22655, 3]) torch.Size([22655])\n",
            "torch.Size([22866, 3]) torch.Size([22866])\n"
          ]
        }
      ],
      "source": [
        "# ----------------- Dataset Building Function ----------------------\n",
        "\n",
        "def build_dataset(words):\n",
        "    X, Y = [], []\n",
        "\n",
        "    for w in words:\n",
        "        context = [0] * block_size\n",
        "        for ch in w + '.':\n",
        "            ix = stoi[ch]\n",
        "            X.append(context)\n",
        "            Y.append(ix)\n",
        "            context = context[1:] + [ix]  # Crop and append\n",
        "\n",
        "    X = torch.tensor(X)\n",
        "    Y = torch.tensor(Y)\n",
        "    print(X.shape, Y.shape)\n",
        "    return X, Y\n",
        "\n",
        "# ----------------- Setup ----------------------\n",
        "\n",
        "block_size = 3  # Context length: how many characters do we take to predict the next one?\n",
        "\n",
        "# ----------------- Data Preparation ----------------------\n",
        "\n",
        "random.seed(42)\n",
        "random.shuffle(words)\n",
        "n1 = int(0.8 * len(words))\n",
        "n2 = int(0.9 * len(words))\n",
        "\n",
        "# ----------------- Dataset Creation ----------------------\n",
        "\n",
        "Xtr, Ytr = build_dataset(words[:n1])  # 80% for training\n",
        "Xdev, Ydev = build_dataset(words[n1:n2])  # 10% for validation\n",
        "Xte, Yte = build_dataset(words[n2:])  # 10% for testing\n"
      ]
    },
    {
      "cell_type": "code",
      "execution_count": 5,
      "metadata": {
        "id": "MJPU8HT08PPu"
      },
      "outputs": [],
      "source": [
        "# utility function we will use later when comparing manual gradients to PyTorch gradients\n",
        "def cmp(s, dt, t):\n",
        "  ex = torch.all(dt == t.grad).item()\n",
        "  app = torch.allclose(dt, t.grad)\n",
        "  maxdiff = (dt - t.grad).abs().max().item()\n",
        "  print(f'{s:15s} | exact: {str(ex):5s} | approximate: {str(app):5s} | maxdiff: {maxdiff}')"
      ]
    },
    {
      "cell_type": "code",
      "execution_count": 6,
      "metadata": {
        "id": "ZlFLjQyT8PPu"
      },
      "outputs": [
        {
          "name": "stdout",
          "output_type": "stream",
          "text": [
            "10892\n"
          ]
        }
      ],
      "source": [
        "# Constants\n",
        "n_embd = 10  # Dimensionality of the character embedding vectors\n",
        "n_hidden = 64  # Number of neurons in the hidden layer of the MLP\n",
        "vocab_size = 100  # Example value, replace with actual vocabulary size\n",
        "block_size = 5  # Example value, replace with actual block size\n",
        "\n",
        "# Random generator for reproducibility\n",
        "g = torch.Generator().manual_seed(2147483647)\n",
        "\n",
        "# Initializing parameters\n",
        "C = torch.randn((vocab_size, n_embd), generator=g)\n",
        "W1 = torch.randn((n_embd * block_size, n_hidden), generator=g) * (5 / 3) / (n_embd * block_size)**0.5\n",
        "b1 = torch.randn(n_hidden, generator=g) * 0.1  # Using b1 just for fun, it's useless because of BN\n",
        "W2 = torch.randn((n_hidden, vocab_size), generator=g) * 0.1\n",
        "b2 = torch.randn(vocab_size, generator=g) * 0.1\n",
        "\n",
        "# BatchNorm parameters\n",
        "bngain = torch.randn((1, n_hidden), generator=g) * 0.1 + 1.0\n",
        "bnbias = torch.randn((1, n_hidden), generator=g) * 0.1\n",
        "\n",
        "# List of parameters\n",
        "parameters = [C, W1, b1, W2, b2, bngain, bnbias]\n",
        "\n",
        "# Print total number of parameters\n",
        "print(sum(p.nelement() for p in parameters))\n",
        "\n",
        "# Enable gradient computation for all parameters\n",
        "for p in parameters:\n",
        "    p.requires_grad = True\n"
      ]
    },
    {
      "cell_type": "code",
      "execution_count": 7,
      "metadata": {
        "id": "QY-y96Y48PPv"
      },
      "outputs": [],
      "source": [
        "# ----------------- Minibatch Construction ----------------------\n",
        "\n",
        "# Parameters\n",
        "batch_size = 32\n",
        "n = batch_size  # A shorter variable also, for convenience\n",
        "\n",
        "# Construct a minibatch\n",
        "ix = torch.randint(0, Xtr.shape[0], (batch_size,), generator=g)\n",
        "Xb, Yb = Xtr[ix], Ytr[ix]  # Batch X, Y"
      ]
    },
    {
      "cell_type": "code",
      "execution_count": 8,
      "metadata": {
        "id": "8ofj1s6d8PPv"
      },
      "outputs": [
        {
          "ename": "RuntimeError",
          "evalue": "mat1 and mat2 shapes cannot be multiplied (32x30 and 50x64)",
          "output_type": "error",
          "traceback": [
            "\u001b[0;31m---------------------------------------------------------------------------\u001b[0m",
            "\u001b[0;31mRuntimeError\u001b[0m                              Traceback (most recent call last)",
            "Cell \u001b[0;32mIn[8], line 10\u001b[0m\n\u001b[1;32m      5\u001b[0m embcat \u001b[38;5;241m=\u001b[39m emb\u001b[38;5;241m.\u001b[39mview(emb\u001b[38;5;241m.\u001b[39mshape[\u001b[38;5;241m0\u001b[39m], \u001b[38;5;241m-\u001b[39m\u001b[38;5;241m1\u001b[39m)  \u001b[38;5;66;03m# Concatenate the vectors\u001b[39;00m\n\u001b[1;32m      7\u001b[0m \u001b[38;5;66;03m# ----------------- Layer 1 ----------------------\u001b[39;00m\n\u001b[1;32m      8\u001b[0m \n\u001b[1;32m      9\u001b[0m \u001b[38;5;66;03m# Linear layer 1\u001b[39;00m\n\u001b[0;32m---> 10\u001b[0m hprebn \u001b[38;5;241m=\u001b[39m \u001b[43membcat\u001b[49m\u001b[43m \u001b[49m\u001b[38;5;241;43m@\u001b[39;49m\u001b[43m \u001b[49m\u001b[43mW1\u001b[49m \u001b[38;5;241m+\u001b[39m b1  \u001b[38;5;66;03m# Hidden layer pre-activation\u001b[39;00m\n\u001b[1;32m     12\u001b[0m \u001b[38;5;66;03m# BatchNorm layer\u001b[39;00m\n\u001b[1;32m     13\u001b[0m bnmeani \u001b[38;5;241m=\u001b[39m hprebn\u001b[38;5;241m.\u001b[39mmean(\u001b[38;5;241m0\u001b[39m, keepdim\u001b[38;5;241m=\u001b[39m\u001b[38;5;28;01mTrue\u001b[39;00m)\n",
            "\u001b[0;31mRuntimeError\u001b[0m: mat1 and mat2 shapes cannot be multiplied (32x30 and 50x64)"
          ]
        }
      ],
      "source": [
        "# Forward pass, \"chunkated\" into smaller steps that are possible to backward one at a time\n",
        "\n",
        "# Embedding layer\n",
        "emb = C[Xb]  # Embed the characters into vectors\n",
        "embcat = emb.view(emb.shape[0], -1)  # Concatenate the vectors\n",
        "\n",
        "# ----------------- Layer 1 ----------------------\n",
        "\n",
        "# Linear layer 1\n",
        "hprebn = embcat @ W1 + b1  # Hidden layer pre-activation\n",
        "\n",
        "# BatchNorm layer\n",
        "bnmeani = hprebn.mean(0, keepdim=True)\n",
        "bndiff = hprebn - bnmeani\n",
        "bnvar = bndiff.var(0, unbiased=True, keepdim=True)  # Note: Bessel's correction (dividing by n-1, not n)\n",
        "bnvar_inv = (bnvar + 1e-5).pow(-0.5)\n",
        "bnraw = bndiff * bnvar_inv\n",
        "hpreact = bngain * bnraw + bnbias\n",
        "\n",
        "# Non-linearity\n",
        "h = torch.tanh(hpreact)  # Hidden layer\n",
        "\n",
        "# ----------------- Layer 2 ----------------------\n",
        "\n",
        "# Linear layer 2\n",
        "logits = h @ W2 + b2  # Output layer\n",
        "\n",
        "# ----------------- Cross Entropy Loss ----------------------\n",
        "\n",
        "# Cross entropy loss (same as F.cross_entropy(logits, Yb))\n",
        "logit_maxes = logits.max(1, keepdim=True).values\n",
        "norm_logits = logits - logit_maxes  # Subtract max for numerical stability\n",
        "counts = norm_logits.exp()\n",
        "counts_sum = counts.sum(1, keepdim=True)\n",
        "counts_sum_inv = counts_sum.pow(-1)  # Using counts_sum.pow(-1) for backprop to be bit exact\n",
        "probs = counts * counts_sum_inv\n",
        "logprobs = probs.log()\n",
        "loss = -logprobs[range(n), Yb].mean()\n",
        "\n",
        "# ----------------- Backward Pass ----------------------\n",
        "\n",
        "# PyTorch backward pass\n",
        "for p in parameters:\n",
        "    p.grad = None\n",
        "\n",
        "# Retain gradients for intermediate variables\n",
        "for t in [logprobs, probs, counts, counts_sum, counts_sum_inv, norm_logits, logit_maxes, logits, \n",
        "          h, hpreact, bnraw, bnvar_inv, bnvar, bndiff, hprebn, bnmeani, embcat, emb]:\n",
        "    t.retain_grad()\n",
        "\n",
        "# Backward pass\n",
        "loss.backward()\n",
        "\n",
        "loss\n"
      ]
    },
    {
      "cell_type": "code",
      "execution_count": null,
      "metadata": {
        "id": "mO-8aqxK8PPw"
      },
      "outputs": [],
      "source": [
        "# Exercise 1: backprop through the whole thing manually,\n",
        "# backpropagating through exactly all of the variables\n",
        "# as they are defined in the forward pass above, one by one\n",
        "\n",
        "# -----------------\n",
        "# YOUR CODE HERE :)\n",
        "# -----------------\n",
        "\n",
        "# cmp('logprobs', dlogprobs, logprobs)\n",
        "# cmp('probs', dprobs, probs)\n",
        "# cmp('counts_sum_inv', dcounts_sum_inv, counts_sum_inv)\n",
        "# cmp('counts_sum', dcounts_sum, counts_sum)\n",
        "# cmp('counts', dcounts, counts)\n",
        "# cmp('norm_logits', dnorm_logits, norm_logits)\n",
        "# cmp('logit_maxes', dlogit_maxes, logit_maxes)\n",
        "# cmp('logits', dlogits, logits)\n",
        "# cmp('h', dh, h)\n",
        "# cmp('W2', dW2, W2)\n",
        "# cmp('b2', db2, b2)\n",
        "# cmp('hpreact', dhpreact, hpreact)\n",
        "# cmp('bngain', dbngain, bngain)\n",
        "# cmp('bnbias', dbnbias, bnbias)\n",
        "# cmp('bnraw', dbnraw, bnraw)\n",
        "# cmp('bnvar_inv', dbnvar_inv, bnvar_inv)\n",
        "# cmp('bnvar', dbnvar, bnvar)\n",
        "# cmp('bndiff2', dbndiff2, bndiff2)\n",
        "# cmp('bndiff', dbndiff, bndiff)\n",
        "# cmp('bnmeani', dbnmeani, bnmeani)\n",
        "# cmp('hprebn', dhprebn, hprebn)\n",
        "# cmp('embcat', dembcat, embcat)\n",
        "# cmp('W1', dW1, W1)\n",
        "# cmp('b1', db1, b1)\n",
        "# cmp('emb', demb, emb)\n",
        "# cmp('C', dC, C)"
      ]
    },
    {
      "cell_type": "code",
      "execution_count": null,
      "metadata": {
        "id": "ebLtYji_8PPw"
      },
      "outputs": [],
      "source": [
        "# Exercise 2: backprop through cross_entropy but all in one go\n",
        "# to complete this challenge look at the mathematical expression of the loss,\n",
        "# take the derivative, simplify the expression, and just write it out\n",
        "\n",
        "# forward pass\n",
        "\n",
        "# before:\n",
        "# logit_maxes = logits.max(1, keepdim=True).values\n",
        "# norm_logits = logits - logit_maxes # subtract max for numerical stability\n",
        "# counts = norm_logits.exp()\n",
        "# counts_sum = counts.sum(1, keepdims=True)\n",
        "# counts_sum_inv = counts_sum**-1 # if I use (1.0 / counts_sum) instead then I can't get backprop to be bit exact...\n",
        "# probs = counts * counts_sum_inv\n",
        "# logprobs = probs.log()\n",
        "# loss = -logprobs[range(n), Yb].mean()\n",
        "\n",
        "# now:\n",
        "loss_fast = F.cross_entropy(logits, Yb)\n",
        "print(loss_fast.item(), 'diff:', (loss_fast - loss).item())"
      ]
    },
    {
      "cell_type": "code",
      "execution_count": null,
      "metadata": {
        "id": "-gCXbB4C8PPx"
      },
      "outputs": [],
      "source": [
        "# backward pass\n",
        "\n",
        "# -----------------\n",
        "# YOUR CODE HERE :)\n",
        "dlogits = None # TODO. my solution is 3 lines\n",
        "# -----------------\n",
        "\n",
        "#cmp('logits', dlogits, logits) # I can only get approximate to be true, my maxdiff is 6e-9"
      ]
    },
    {
      "cell_type": "code",
      "execution_count": null,
      "metadata": {
        "id": "hd-MkhB68PPy"
      },
      "outputs": [],
      "source": [
        "# Exercise 3: backprop through batchnorm but all in one go\n",
        "# to complete this challenge look at the mathematical expression of the output of batchnorm,\n",
        "# take the derivative w.r.t. its input, simplify the expression, and just write it out\n",
        "# BatchNorm paper: https://arxiv.org/abs/1502.03167\n",
        "\n",
        "# forward pass\n",
        "\n",
        "# before:\n",
        "# bnmeani = 1/n*hprebn.sum(0, keepdim=True)\n",
        "# bndiff = hprebn - bnmeani\n",
        "# bndiff2 = bndiff**2\n",
        "# bnvar = 1/(n-1)*(bndiff2).sum(0, keepdim=True) # note: Bessel's correction (dividing by n-1, not n)\n",
        "# bnvar_inv = (bnvar + 1e-5)**-0.5\n",
        "# bnraw = bndiff * bnvar_inv\n",
        "# hpreact = bngain * bnraw + bnbias\n",
        "\n",
        "# now:\n",
        "hpreact_fast = bngain * (hprebn - hprebn.mean(0, keepdim=True)) / torch.sqrt(hprebn.var(0, keepdim=True, unbiased=True) + 1e-5) + bnbias\n",
        "print('max diff:', (hpreact_fast - hpreact).abs().max())"
      ]
    },
    {
      "cell_type": "code",
      "execution_count": null,
      "metadata": {
        "id": "POdeZSKT8PPy"
      },
      "outputs": [],
      "source": [
        "# backward pass\n",
        "\n",
        "# before we had:\n",
        "# dbnraw = bngain * dhpreact\n",
        "# dbndiff = bnvar_inv * dbnraw\n",
        "# dbnvar_inv = (bndiff * dbnraw).sum(0, keepdim=True)\n",
        "# dbnvar = (-0.5*(bnvar + 1e-5)**-1.5) * dbnvar_inv\n",
        "# dbndiff2 = (1.0/(n-1))*torch.ones_like(bndiff2) * dbnvar\n",
        "# dbndiff += (2*bndiff) * dbndiff2\n",
        "# dhprebn = dbndiff.clone()\n",
        "# dbnmeani = (-dbndiff).sum(0)\n",
        "# dhprebn += 1.0/n * (torch.ones_like(hprebn) * dbnmeani)\n",
        "\n",
        "# calculate dhprebn given dhpreact (i.e. backprop through the batchnorm)\n",
        "# (you'll also need to use some of the variables from the forward pass up above)\n",
        "\n",
        "# -----------------\n",
        "# YOUR CODE HERE :)\n",
        "dhprebn = None # TODO. my solution is 1 (long) line\n",
        "# -----------------\n",
        "\n",
        "cmp('hprebn', dhprebn, hprebn) # I can only get approximate to be true, my maxdiff is 9e-10"
      ]
    },
    {
      "cell_type": "code",
      "execution_count": null,
      "metadata": {
        "id": "wPy8DhqB8PPz"
      },
      "outputs": [],
      "source": [
        "# Exercise 4: putting it all together!\n",
        "# Train the MLP neural net with your own backward pass\n",
        "\n",
        "# ----------------- Initialization ----------------------\n",
        "\n",
        "# Initialize parameters\n",
        "n_embd = 10  # The dimensionality of the character embedding vectors\n",
        "n_hidden = 200  # The number of neurons in the hidden layer of the MLP\n",
        "\n",
        "g = torch.Generator().manual_seed(2147483647)  # For reproducibility\n",
        "C = torch.randn((vocab_size, n_embd), generator=g)\n",
        "\n",
        "# Layer 1\n",
        "W1 = torch.randn((n_embd * block_size, n_hidden), generator=g) * (5/3) / ((n_embd * block_size)**0.5)\n",
        "b1 = torch.randn(n_hidden, generator=g) * 0.1\n",
        "\n",
        "# Layer 2\n",
        "W2 = torch.randn((n_hidden, vocab_size), generator=g) * 0.1\n",
        "b2 = torch.randn(vocab_size, generator=g) * 0.1\n",
        "\n",
        "# BatchNorm parameters\n",
        "bngain = torch.randn((1, n_hidden)) * 0.1 + 1.0\n",
        "bnbias = torch.randn((1, n_hidden)) * 0.1\n",
        "\n",
        "parameters = [C, W1, b1, W2, b2, bngain, bnbias]\n",
        "print(sum(p.nelement() for p in parameters))  # Number of parameters in total\n",
        "for p in parameters:\n",
        "    p.requires_grad = True\n",
        "\n",
        "# ----------------- Optimization Setup ----------------------\n",
        "\n",
        "max_steps = 200000\n",
        "batch_size = 32\n",
        "n = batch_size  # Convenience\n",
        "lossi = []\n",
        "\n",
        "# ----------------- Training Loop ----------------------\n",
        "\n",
        "# Kick off optimization\n",
        "for i in range(max_steps):\n",
        "\n",
        "    # Minibatch construct\n",
        "    ix = torch.randint(0, Xtr.shape[0], (batch_size,), generator=g)\n",
        "    Xb, Yb = Xtr[ix], Ytr[ix]  # Batch X, Y\n",
        "\n",
        "    # ----------------- Forward Pass ----------------------\n",
        "\n",
        "    # Embedding layer\n",
        "    emb = C[Xb]  # Embed the characters into vectors\n",
        "    embcat = emb.view(emb.shape[0], -1)  # Concatenate the vectors\n",
        "\n",
        "    # Linear layer\n",
        "    hprebn = embcat @ W1 + b1  # Hidden layer pre-activation\n",
        "\n",
        "    # BatchNorm layer\n",
        "    # -------------------------------------------------------------\n",
        "    bnmean = hprebn.mean(0, keepdim=True)\n",
        "    bnvar = hprebn.var(0, keepdim=True, unbiased=True)\n",
        "    bnvar_inv = (bnvar + 1e-5).pow(-0.5)\n",
        "    bnraw = (hprebn - bnmean) * bnvar_inv\n",
        "    hpreact = bngain * bnraw + bnbias\n",
        "    # -------------------------------------------------------------\n",
        "\n",
        "    # Non-linearity\n",
        "    h = torch.tanh(hpreact)  # Hidden layer\n",
        "\n",
        "    # Output layer\n",
        "    logits = h @ W2 + b2\n",
        "\n",
        "    # Loss function\n",
        "    loss = F.cross_entropy(logits, Yb)\n",
        "\n",
        "    # ----------------- Backward Pass ----------------------\n",
        "\n",
        "    for p in parameters:\n",
        "        p.grad = None\n",
        "\n",
        "    loss.backward()  # Use this for correctness comparisons, delete it later!\n",
        "\n",
        "    # Manual backpropagation\n",
        "    # -----------------\n",
        "    # YOUR CODE HERE :)\n",
        "    dC, dW1, db1, dW2, db2, dbngain, dbnbias = None, None, None, None, None, None, None\n",
        "    grads = [dC, dW1, db1, dW2, db2, dbngain, dbnbias]\n",
        "    # -----------------\n",
        "\n",
        "    # ----------------- Parameter Update ----------------------\n",
        "\n",
        "    lr = 0.1 if i < 100000 else 0.01  # Step learning rate decay\n",
        "    for p, grad in zip(parameters, grads):\n",
        "        p.data += -lr * p.grad  # Old way of cheems doge (using PyTorch grad from .backward())\n",
        "        # p.data += -lr * grad # New way of swole doge TODO: enable\n",
        "\n",
        "    # ----------------- Tracking and Logging ----------------------\n",
        "\n",
        "    # Track stats\n",
        "    if i % 10000 == 0:  # Print every once in a while\n",
        "        print(f'{i:7d}/{max_steps:7d}: {loss.item():.4f}')\n",
        "    lossi.append(loss.log10().item())\n",
        "\n",
        "    if i >= 100:  # TODO: delete early breaking when you're ready to train the full net\n",
        "        break\n"
      ]
    },
    {
      "cell_type": "code",
      "execution_count": null,
      "metadata": {
        "id": "ZEpI0hMW8PPz"
      },
      "outputs": [],
      "source": [
        "# useful for checking your gradients\n",
        "# for p,g in zip(parameters, grads):\n",
        "#   cmp(str(tuple(p.shape)), g, p)"
      ]
    },
    {
      "cell_type": "code",
      "execution_count": null,
      "metadata": {
        "id": "KImLWNoh8PP0"
      },
      "outputs": [],
      "source": [
        "# calibrate the batch norm at the end of training\n",
        "\n",
        "with torch.no_grad():\n",
        "  # pass the training set through\n",
        "  emb = C[Xtr]\n",
        "  embcat = emb.view(emb.shape[0], -1)\n",
        "  hpreact = embcat @ W1 + b1\n",
        "  # measure the mean/std over the entire training set\n",
        "  bnmean = hpreact.mean(0, keepdim=True)\n",
        "  bnvar = hpreact.var(0, keepdim=True, unbiased=True)\n"
      ]
    },
    {
      "cell_type": "code",
      "execution_count": null,
      "metadata": {
        "id": "6aFnP_Zc8PP0"
      },
      "outputs": [],
      "source": [
        "# ----------------- Evaluation Function ----------------------\n",
        "\n",
        "@torch.no_grad()  # This decorator disables gradient tracking\n",
        "def split_loss(split):\n",
        "    # ----------------- Data Selection ----------------------\n",
        "    x, y = {\n",
        "        'train': (Xtr, Ytr),\n",
        "        'val': (Xdev, Ydev),\n",
        "        'test': (Xte, Yte),\n",
        "    }[split]\n",
        "    \n",
        "    # ----------------- Forward Pass ----------------------\n",
        "    emb = C[x]  # (N, block_size, n_embd)\n",
        "    embcat = emb.view(emb.shape[0], -1)  # Concatenate into (N, block_size * n_embd)\n",
        "    hpreact = embcat @ W1 + b1\n",
        "    \n",
        "    # ----------------- BatchNorm Layer ----------------------\n",
        "    hpreact = bngain * (hpreact - bnmean) * (bnvar + 1e-5).pow(-0.5) + bnbias\n",
        "    \n",
        "    # ----------------- Non-linearity ----------------------\n",
        "    h = torch.tanh(hpreact)  # (N, n_hidden)\n",
        "    \n",
        "    # ----------------- Output Layer ----------------------\n",
        "    logits = h @ W2 + b2  # (N, vocab_size)\n",
        "    \n",
        "    # ----------------- Loss Calculation ----------------------\n",
        "    loss = F.cross_entropy(logits, y)\n",
        "    print(split, loss.item())\n",
        "\n",
        "# ----------------- Evaluation ----------------------\n",
        "split_loss('train')\n",
        "split_loss('val')\n"
      ]
    },
    {
      "cell_type": "code",
      "execution_count": null,
      "metadata": {
        "id": "esWqmhyj8PP1"
      },
      "outputs": [],
      "source": [
        "# I achieved:\n",
        "# train 2.0718822479248047\n",
        "# val 2.1162495613098145"
      ]
    },
    {
      "cell_type": "code",
      "execution_count": null,
      "metadata": {
        "id": "xHeQNv3s8PP1"
      },
      "outputs": [],
      "source": [
        "# ----------------- Sampling from the Model ----------------------\n",
        "g = torch.Generator().manual_seed(2147483647 + 10)\n",
        "\n",
        "for _ in range(20):\n",
        "\n",
        "    out = []\n",
        "    context = [0] * block_size  # Initialize with all zeros\n",
        "\n",
        "    while True:\n",
        "        # ----------------- Forward Pass ----------------------\n",
        "        emb = C[torch.tensor([context])]  # (1, block_size, n_embd)\n",
        "        embcat = emb.view(emb.shape[0], -1)  # Concatenate into (N, block_size * n_embd)\n",
        "        hpreact = embcat @ W1 + b1\n",
        "\n",
        "        # ----------------- BatchNorm Layer ----------------------\n",
        "        hpreact = bngain * (hpreact - bnmean) * (bnvar + 1e-5).pow(-0.5) + bnbias\n",
        "\n",
        "        # ----------------- Non-linearity ----------------------\n",
        "        h = torch.tanh(hpreact)  # (N, n_hidden)\n",
        "\n",
        "        # ----------------- Output Layer ----------------------\n",
        "        logits = h @ W2 + b2  # (N, vocab_size)\n",
        "\n",
        "        # ----------------- Sampling ----------------------\n",
        "        probs = F.softmax(logits, dim=1)\n",
        "        ix = torch.multinomial(probs, num_samples=1, generator=g).item()\n",
        "        context = context[1:] + [ix]\n",
        "        out.append(ix)\n",
        "\n",
        "        # ----------------- End Condition ----------------------\n",
        "        if ix == 0:\n",
        "            break\n",
        "\n",
        "    print(''.join(itos[i] for i in out))\n"
      ]
    }
  ],
  "metadata": {
    "colab": {
      "provenance": []
    },
    "kernelspec": {
      "display_name": "Python 3",
      "language": "python",
      "name": "python3"
    },
    "language_info": {
      "codemirror_mode": {
        "name": "ipython",
        "version": 3
      },
      "file_extension": ".py",
      "mimetype": "text/x-python",
      "name": "python",
      "nbconvert_exporter": "python",
      "pygments_lexer": "ipython3",
      "version": "3.10.0"
    }
  },
  "nbformat": 4,
  "nbformat_minor": 0
}
